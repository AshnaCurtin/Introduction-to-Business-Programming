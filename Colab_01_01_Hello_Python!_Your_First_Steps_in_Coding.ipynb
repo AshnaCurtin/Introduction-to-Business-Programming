{
  "nbformat": 4,
  "nbformat_minor": 0,
  "metadata": {
    "colab": {
      "provenance": [],
      "authorship_tag": "ABX9TyPwf9r5MtZq71F7VZoQwvN6",
      "include_colab_link": true
    },
    "kernelspec": {
      "name": "python3",
      "display_name": "Python 3"
    },
    "language_info": {
      "name": "python"
    }
  },
  "cells": [
    {
      "cell_type": "markdown",
      "metadata": {
        "id": "view-in-github",
        "colab_type": "text"
      },
      "source": [
        "<a href=\"https://colab.research.google.com/github/AshnaCurtin/Introduction-to-Business-Programming/blob/master/Colab_01_01_Hello_Python!_Your_First_Steps_in_Coding.ipynb\" target=\"_parent\"><img src=\"https://colab.research.google.com/assets/colab-badge.svg\" alt=\"Open In Colab\"/></a>"
      ]
    },
    {
      "cell_type": "markdown",
      "source": [
        "Section 1: Printing \"Hello World!\""
      ],
      "metadata": {
        "id": "1NPsu9m_Rg9t"
      }
    },
    {
      "cell_type": "code",
      "execution_count": 1,
      "metadata": {
        "colab": {
          "base_uri": "https://localhost:8080/"
        },
        "id": "Orzs82rRQzHr",
        "outputId": "e30260eb-5f2c-41e0-bc4c-45cced1180f7"
      },
      "outputs": [
        {
          "output_type": "stream",
          "name": "stdout",
          "text": [
            "Hello World!\n"
          ]
        }
      ],
      "source": [
        "print(\"Hello World!\")"
      ]
    },
    {
      "cell_type": "markdown",
      "source": [
        "Section 2: Understanding print() Function"
      ],
      "metadata": {
        "id": "pGB5k3xhRet2"
      }
    },
    {
      "cell_type": "code",
      "source": [
        "print(\"Hello my name is Ashna\")"
      ],
      "metadata": {
        "colab": {
          "base_uri": "https://localhost:8080/"
        },
        "id": "jUg8ZsA4SBRp",
        "outputId": "4c732929-689e-4848-8f72-464a498b2675"
      },
      "execution_count": 2,
      "outputs": [
        {
          "output_type": "stream",
          "name": "stdout",
          "text": [
            "Hello my name is Ashna\n"
          ]
        }
      ]
    },
    {
      "cell_type": "markdown",
      "source": [
        "Section 3: Printing Multiple Lines"
      ],
      "metadata": {
        "id": "n-Brv1oeSINn"
      }
    },
    {
      "cell_type": "code",
      "source": [
        "print(\"Hello World\")\n",
        "print(\"I am learning Python.\")"
      ],
      "metadata": {
        "colab": {
          "base_uri": "https://localhost:8080/"
        },
        "id": "UqLsmtW3SFh6",
        "outputId": "336c2874-6e76-456e-e023-01089dc74df1"
      },
      "execution_count": 3,
      "outputs": [
        {
          "output_type": "stream",
          "name": "stdout",
          "text": [
            "Hello World\n",
            "I am learning Python.\n"
          ]
        }
      ]
    },
    {
      "cell_type": "code",
      "source": [],
      "metadata": {
        "id": "eLmGMX2hSQNJ"
      },
      "execution_count": null,
      "outputs": []
    }
  ]
}