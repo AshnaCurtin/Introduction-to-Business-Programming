{
  "nbformat": 4,
  "nbformat_minor": 0,
  "metadata": {
    "colab": {
      "provenance": [],
      "authorship_tag": "ABX9TyPoW1hP1FatIOLH80EGVNOJ",
      "include_colab_link": true
    },
    "kernelspec": {
      "name": "python3",
      "display_name": "Python 3"
    },
    "language_info": {
      "name": "python"
    }
  },
  "cells": [
    {
      "cell_type": "markdown",
      "metadata": {
        "id": "view-in-github",
        "colab_type": "text"
      },
      "source": [
        "<a href=\"https://colab.research.google.com/github/AshnaCurtin/Introduction-to-Business-Programming/blob/master/Colab_01_04_Chatbot_Project.ipynb\" target=\"_parent\"><img src=\"https://colab.research.google.com/assets/colab-badge.svg\" alt=\"Open In Colab\"/></a>"
      ]
    },
    {
      "cell_type": "markdown",
      "source": [
        "Welcome to Your Chatbot Adventure!"
      ],
      "metadata": {
        "id": "BCkODx5wbOFs"
      }
    },
    {
      "cell_type": "code",
      "execution_count": 1,
      "metadata": {
        "colab": {
          "base_uri": "https://localhost:8080/"
        },
        "id": "VhcXCe3AbK6J",
        "outputId": "9967c01f-af79-4e06-99c8-cb10860dd23f"
      },
      "outputs": [
        {
          "output_type": "stream",
          "name": "stdout",
          "text": [
            "Welcome to MyChatBuddy 007!\n",
            "I'm a Chatbot. Your simple and clever companion. Let's chat!\n",
            "\n",
            "You: Hello!\n",
            "Bot: Hi there! How can I help you today?\n",
            "\n",
            "You: What's your name?\n",
            "Bot: I'm just a chatbot, but you can call me ChatBot!\n",
            "\n",
            "You: What can you do?\n",
            "Bot: I can answer simple questions and have a friendly chat!\n",
            "\n",
            "You: Bye!\n",
            "Bot: Goodbye! Have a great day!\n"
          ]
        }
      ],
      "source": [
        "print(\"Welcome to MyChatBuddy 007!\")\n",
        "print(\"I'm a Chatbot. Your simple and clever companion. Let's chat!\")\n",
        "\n",
        "print(\"\\nYou: Hello!\")\n",
        "print(\"Bot: Hi there! How can I help you today?\")\n",
        "\n",
        "print(\"\\nYou: What's your name?\")\n",
        "print(\"Bot: I'm just a chatbot, but you can call me ChatBot!\")\n",
        "\n",
        "print(\"\\nYou: What can you do?\")\n",
        "print(\"Bot: I can answer simple questions and have a friendly chat!\")\n",
        "\n",
        "print(\"\\nYou: Bye!\")\n",
        "print(\"Bot: Goodbye! Have a great day!\")"
      ]
    },
    {
      "cell_type": "markdown",
      "source": [
        "AI-Generated Rule-Based Chatbot"
      ],
      "metadata": {
        "id": "-IpncBmlcAy5"
      }
    },
    {
      "cell_type": "code",
      "source": [
        "# Simple Rule-Based Chatbot\n",
        "print(\"Welcome to ChatBot 2.0! Type 'bye' to exit.\")\n",
        "\n",
        "while True:\n",
        "    user_input = input(\"\\nYou: \").lower()\n",
        "\n",
        "    if user_input == \"hello\":\n",
        "        print(\"Bot: Hi there! How can I help you today?\")\n",
        "    elif user_input == \"what's your name?\":\n",
        "        print(\"Bot: I'm ChatBot 2.0, your AI-powered assistant!\")\n",
        "    elif user_input == \"what can you do?\":\n",
        "        print(\"Bot: I can answer simple questions and chat with you.\")\n",
        "    elif user_input == \"tell me a joke\":\n",
        "        print(\"Bot: Why don't programmers like nature? Too many bugs! 😂\")\n",
        "    elif user_input == \"bye\":\n",
        "        print(\"Bot: Goodbye! Have a great day!\")\n",
        "        break\n",
        "    else:\n",
        "        print(\"Bot: Sorry, I don’t understand. Can you ask something else?\")"
      ],
      "metadata": {
        "colab": {
          "base_uri": "https://localhost:8080/"
        },
        "id": "OYEsi1AObviE",
        "outputId": "225c4a6f-cbf9-4edb-e226-f02cd033136c"
      },
      "execution_count": 2,
      "outputs": [
        {
          "output_type": "stream",
          "name": "stdout",
          "text": [
            "Welcome to ChatBot 2.0! Type 'bye' to exit.\n",
            "\n",
            "You: Ashna\n",
            "Bot: Sorry, I don’t understand. Can you ask something else?\n",
            "\n",
            "You: hello\n",
            "Bot: Hi there! How can I help you today?\n",
            "\n",
            "You: what's your name?\n",
            "Bot: I'm ChatBot 2.0, your AI-powered assistant!\n",
            "\n",
            "You: what can you do?\n",
            "Bot: I can answer simple questions and chat with you.\n",
            "\n",
            "You: tell me a joke\n",
            "Bot: Why don't programmers like nature? Too many bugs! 😂\n",
            "\n",
            "You: bye\n",
            "Bot: Goodbye! Have a great day!\n"
          ]
        }
      ]
    },
    {
      "cell_type": "markdown",
      "source": [
        "Basic LLM Chatbot (OpenAI GPT API)"
      ],
      "metadata": {
        "id": "tn0v0Ksfca3E"
      }
    },
    {
      "cell_type": "code",
      "source": [
        "import openai\n",
        "import os\n",
        "from openai import OpenAI\n",
        "\n",
        "# Set up OpenAI API key (Replace 'your-api-key' with an actual API key)\n",
        "openai.api_key = \"your-api-key\"\n",
        "\n",
        "def chat_with_ai():\n",
        "    print(\"AI ChatBot is ready! Type 'bye' to exit.\")\n",
        "\n",
        "    while True:\n",
        "        user_input = input(\"\\nYou: \")\n",
        "\n",
        "        if user_input.lower() == \"bye\":\n",
        "            print(\"Bot: Goodbye! Have a great day!\")\n",
        "            break\n",
        "\n",
        "        # Send user input to OpenAI's API and get a response\n",
        "        response = openai.ChatCompletion.create(\n",
        "            model=\"gpt-3.5-turbo\",\n",
        "            messages=[{\"role\": \"user\", \"content\": user_input}]\n",
        "        )\n",
        "\n",
        "        # Print the AI's response\n",
        "        print(\"Bot:\", response[\"choices\"][0][\"message\"][\"content\"])\n",
        "\n",
        "# Run the chatbot\n",
        "chat_with_ai()"
      ],
      "metadata": {
        "colab": {
          "base_uri": "https://localhost:8080/"
        },
        "id": "mXtU9BVLeEhs",
        "outputId": "310f17f6-f446-4d49-8da3-1ecd5c60bc5b"
      },
      "execution_count": 12,
      "outputs": [
        {
          "output_type": "stream",
          "name": "stdout",
          "text": [
            "AI ChatBot is ready! Type 'bye' to exit.\n",
            "\n",
            "You: bye\n",
            "Bot: Goodbye! Have a great day!\n"
          ]
        }
      ]
    },
    {
      "cell_type": "code",
      "source": [],
      "metadata": {
        "id": "j68s1ME6fUHy"
      },
      "execution_count": null,
      "outputs": []
    }
  ]
}