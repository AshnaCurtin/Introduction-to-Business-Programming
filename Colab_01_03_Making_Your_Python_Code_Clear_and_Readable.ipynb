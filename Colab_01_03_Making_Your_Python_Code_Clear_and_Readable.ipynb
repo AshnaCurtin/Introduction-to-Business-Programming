{
  "nbformat": 4,
  "nbformat_minor": 0,
  "metadata": {
    "colab": {
      "provenance": [],
      "authorship_tag": "ABX9TyPv8+V3TU8zID1TFy1vSIPe",
      "include_colab_link": true
    },
    "kernelspec": {
      "name": "python3",
      "display_name": "Python 3"
    },
    "language_info": {
      "name": "python"
    }
  },
  "cells": [
    {
      "cell_type": "markdown",
      "metadata": {
        "id": "view-in-github",
        "colab_type": "text"
      },
      "source": [
        "<a href=\"https://colab.research.google.com/github/AshnaCurtin/Introduction-to-Business-Programming/blob/master/Colab_01_03_Making_Your_Python_Code_Clear_and_Readable.ipynb\" target=\"_parent\"><img src=\"https://colab.research.google.com/assets/colab-badge.svg\" alt=\"Open In Colab\"/></a>"
      ]
    },
    {
      "cell_type": "markdown",
      "source": [
        "Section 1: Skipping a Line in Code"
      ],
      "metadata": {
        "id": "rphtklR1UEXa"
      }
    },
    {
      "cell_type": "code",
      "execution_count": 1,
      "metadata": {
        "colab": {
          "base_uri": "https://localhost:8080/"
        },
        "id": "OrEkmx0fT9pT",
        "outputId": "52105423-a97f-4279-d6b0-679c520ca14d"
      },
      "outputs": [
        {
          "output_type": "stream",
          "name": "stdout",
          "text": [
            "How\n",
            "are\n",
            "you?\n"
          ]
        }
      ],
      "source": [
        "print(\"How\")\n",
        "\n",
        "print(\"are\")\n",
        "print(\"you?\")"
      ]
    },
    {
      "cell_type": "markdown",
      "source": [
        "Section 2: We Must Skip a Line"
      ],
      "metadata": {
        "id": "Z-ueZa-yUfLh"
      }
    },
    {
      "cell_type": "code",
      "source": [
        "print(\"How\")\n",
        "print()\n",
        "print(\"are\")\n",
        "print(\"you?\")"
      ],
      "metadata": {
        "colab": {
          "base_uri": "https://localhost:8080/"
        },
        "id": "_lxsCtF6USE9",
        "outputId": "c6631545-dabb-442e-b6da-fef4b0debbba"
      },
      "execution_count": 2,
      "outputs": [
        {
          "output_type": "stream",
          "name": "stdout",
          "text": [
            "How\n",
            "\n",
            "are\n",
            "you?\n"
          ]
        }
      ]
    },
    {
      "cell_type": "code",
      "source": [
        "print(\"Blank spaces matter\")\n",
        "print(\"for clarity\")\n",
        "print()\n",
        "print(\"and style!\")"
      ],
      "metadata": {
        "colab": {
          "base_uri": "https://localhost:8080/"
        },
        "id": "R_bOXM59UkWj",
        "outputId": "d8b09935-232d-4b77-c889-502ba4b9e2d7"
      },
      "execution_count": 3,
      "outputs": [
        {
          "output_type": "stream",
          "name": "stdout",
          "text": [
            "Blank spaces matter\n",
            "for clarity\n",
            "\n",
            "and style!\n"
          ]
        }
      ]
    },
    {
      "cell_type": "markdown",
      "source": [
        "Section 3: Multiple Lines with One Function"
      ],
      "metadata": {
        "id": "pz7nW4xxUpWN"
      }
    },
    {
      "cell_type": "code",
      "source": [
        "print(\"This is the first line.\\nThis is the second line.\")"
      ],
      "metadata": {
        "colab": {
          "base_uri": "https://localhost:8080/"
        },
        "id": "_7iEMYM5U4EN",
        "outputId": "40947f3d-fa0a-488a-ecb8-bf20b383daff"
      },
      "execution_count": 4,
      "outputs": [
        {
          "output_type": "stream",
          "name": "stdout",
          "text": [
            "This is the first line.\n",
            "This is the second line.\n"
          ]
        }
      ]
    },
    {
      "cell_type": "markdown",
      "source": [
        "Section 4: Economical Printing – Using Triple Quotes"
      ],
      "metadata": {
        "id": "bJpKa4sHU9vR"
      }
    },
    {
      "cell_type": "code",
      "source": [
        "print('''My contact:\n",
        "Email: your_name@gmail.com\n",
        "Phone: +xx-1234-5678''')"
      ],
      "metadata": {
        "colab": {
          "base_uri": "https://localhost:8080/"
        },
        "id": "1Dft7OWAU7YT",
        "outputId": "70082824-2706-462e-c3c6-10f58df7d16d"
      },
      "execution_count": 5,
      "outputs": [
        {
          "output_type": "stream",
          "name": "stdout",
          "text": [
            "My contact:\n",
            "Email: your_name@gmail.com\n",
            "Phone: +xx-1234-5678\n"
          ]
        }
      ]
    },
    {
      "cell_type": "markdown",
      "source": [
        "Section 5: Debugging Multiline String Errors"
      ],
      "metadata": {
        "id": "j3vi-DRGVC6P"
      }
    },
    {
      "cell_type": "code",
      "source": [
        "print('''To-Do List:\n",
        "1. Complete Python exercise\n",
        "2. Review coding concepts\n",
        "3. Have a cuppa tea''')"
      ],
      "metadata": {
        "colab": {
          "base_uri": "https://localhost:8080/"
        },
        "id": "YFZieUqMVAcC",
        "outputId": "b472f7c3-b548-401d-bb8f-e5e393016470"
      },
      "execution_count": 6,
      "outputs": [
        {
          "output_type": "stream",
          "name": "stdout",
          "text": [
            "To-Do List:\n",
            "1. Complete Python exercise\n",
            "2. Review coding concepts\n",
            "3. Have a cuppa tea\n"
          ]
        }
      ]
    },
    {
      "cell_type": "code",
      "source": [
        "print(\"To-Do List:\\n1. Complete Python exercise\\n2. Review coding concepts\\n3. Have a cuppa tea\")"
      ],
      "metadata": {
        "colab": {
          "base_uri": "https://localhost:8080/"
        },
        "id": "9DFlMRYkVLFx",
        "outputId": "1c6cec19-30f0-4256-f39a-6011aa8a94d4"
      },
      "execution_count": 7,
      "outputs": [
        {
          "output_type": "stream",
          "name": "stdout",
          "text": [
            "To-Do List:\n",
            "1. Complete Python exercise\n",
            "2. Review coding concepts\n",
            "3. Have a cuppa tea\n"
          ]
        }
      ]
    },
    {
      "cell_type": "markdown",
      "source": [
        "Section 6: Print a Python Poem"
      ],
      "metadata": {
        "id": "BHPMPdkGVXvQ"
      }
    },
    {
      "cell_type": "code",
      "source": [
        "# prompt: write a 3- or 4-line poem about Python, then print the poem using one of these techniques:\n",
        "# Using multiple print() functions\n",
        "# Using \\n inside a single string\n",
        "# Using triple quotes\n",
        "\n",
        "print('''A language sleek and grand,\n",
        "Python's grace, a helping hand.\n",
        "From scripts to AI's might,\n",
        "It shines, a coding light.''')\n"
      ],
      "metadata": {
        "colab": {
          "base_uri": "https://localhost:8080/"
        },
        "id": "oCK-8Qs6VUoS",
        "outputId": "4469f95d-7321-49bd-ec13-ff34cd5998d8"
      },
      "execution_count": 8,
      "outputs": [
        {
          "output_type": "stream",
          "name": "stdout",
          "text": [
            "A language sleek and grand,\n",
            "Python's grace, a helping hand.\n",
            "From scripts to AI's might,\n",
            "It shines, a coding light.\n"
          ]
        }
      ]
    },
    {
      "cell_type": "code",
      "source": [
        "# prompt: # prompt: write a 3- or 4-line poem about Python, then print the poem using one of these techniques:\n",
        "# # Using multiple print() functions\n",
        "# # Using \\n inside a single string\n",
        "\n",
        "print(\"A language sleek and grand,\\nPython's grace, a helping hand.\\nFrom scripts to AI's might,\\nIt shines, a coding light.\")\n"
      ],
      "metadata": {
        "colab": {
          "base_uri": "https://localhost:8080/"
        },
        "id": "t8Ny6Au9WxSv",
        "outputId": "006e07c5-8e0f-4bd9-c07d-8fab0dbeeafa"
      },
      "execution_count": 9,
      "outputs": [
        {
          "output_type": "stream",
          "name": "stdout",
          "text": [
            "A language sleek and grand,\n",
            "Python's grace, a helping hand.\n",
            "From scripts to AI's might,\n",
            "It shines, a coding light.\n"
          ]
        }
      ]
    },
    {
      "cell_type": "code",
      "source": [
        "# prompt: # prompt: # prompt: write a 3- or 4-line poem about Python, then print the poem using one of these techniques:\n",
        "# # # Using multiple print() functions\n",
        "\n",
        "print(\"A language sleek and grand,\")\n",
        "print(\"Python's grace, a helping hand.\")\n",
        "print(\"From scripts to AI's might,\")\n",
        "print(\"It shines, a coding light.\")\n"
      ],
      "metadata": {
        "colab": {
          "base_uri": "https://localhost:8080/"
        },
        "id": "8HTkNRDsW7MH",
        "outputId": "0af330bf-0b54-47bb-fbef-b402424efba6"
      },
      "execution_count": 10,
      "outputs": [
        {
          "output_type": "stream",
          "name": "stdout",
          "text": [
            "A language sleek and grand,\n",
            "Python's grace, a helping hand.\n",
            "From scripts to AI's might,\n",
            "It shines, a coding light.\n"
          ]
        }
      ]
    },
    {
      "cell_type": "markdown",
      "source": [
        "Section 7: Print a Personal Profile"
      ],
      "metadata": {
        "id": "gDeftmMWXjN0"
      }
    },
    {
      "cell_type": "code",
      "source": [
        "print('''Personal Profile:\n",
        "Name: Alice Smith\n",
        "Favourite Language: Python\n",
        "Hobby: Coding and bushwalking''')"
      ],
      "metadata": {
        "colab": {
          "base_uri": "https://localhost:8080/"
        },
        "id": "AiIYfIfLXwWW",
        "outputId": "a44e9e72-8631-4755-cb17-b2ac159e756b"
      },
      "execution_count": 11,
      "outputs": [
        {
          "output_type": "stream",
          "name": "stdout",
          "text": [
            "Personal Profile:\n",
            "Name: Alice Smith\n",
            "Favourite Language: Python\n",
            "Hobby: Coding and bushwalking\n"
          ]
        }
      ]
    },
    {
      "cell_type": "code",
      "source": [
        "print(\"Personal Profile:\\nName: Alice Smith\\nFavourite Language: Python\\nHobby: Coding and bushwalking\")"
      ],
      "metadata": {
        "colab": {
          "base_uri": "https://localhost:8080/"
        },
        "id": "BzZbofJtX4ht",
        "outputId": "6acd09ef-8d62-4af5-c99b-249aa9dbb5bc"
      },
      "execution_count": 12,
      "outputs": [
        {
          "output_type": "stream",
          "name": "stdout",
          "text": [
            "Personal Profile:\n",
            "Name: Alice Smith\n",
            "Favourite Language: Python\n",
            "Hobby: Coding and bushwalking\n"
          ]
        }
      ]
    },
    {
      "cell_type": "code",
      "source": [
        "print(\"Personal Profile:\")\n",
        "print(\"Name: Alice Smith\")\n",
        "print(\"Favourite Language: Python\")\n",
        "print(\"Hobby: Coding and bushwalking\")"
      ],
      "metadata": {
        "colab": {
          "base_uri": "https://localhost:8080/"
        },
        "id": "gxJisgn-YFJe",
        "outputId": "f6d0a48e-9a53-45e9-9250-93c2d7bbb3ca"
      },
      "execution_count": 13,
      "outputs": [
        {
          "output_type": "stream",
          "name": "stdout",
          "text": [
            "Personal Profile:\n",
            "Name: Alice Smith\n",
            "Favourite Language: Python\n",
            "Hobby: Coding and bushwalking\n"
          ]
        }
      ]
    },
    {
      "cell_type": "markdown",
      "source": [
        "Section 8: Comments"
      ],
      "metadata": {
        "id": "gsectQwYYcsK"
      }
    },
    {
      "cell_type": "code",
      "source": [
        "# This line is a comment and won't be executed\n",
        "print(\"Do you have any comment?\")"
      ],
      "metadata": {
        "colab": {
          "base_uri": "https://localhost:8080/"
        },
        "id": "md8J4F8kYWLZ",
        "outputId": "5f58329a-00e4-42aa-c391-899740268692"
      },
      "execution_count": 14,
      "outputs": [
        {
          "output_type": "stream",
          "name": "stdout",
          "text": [
            "Do you have any comment?\n"
          ]
        }
      ]
    },
    {
      "cell_type": "markdown",
      "source": [
        "Section 9: Writing Comments"
      ],
      "metadata": {
        "id": "prNMN1xjYsDa"
      }
    },
    {
      "cell_type": "code",
      "source": [
        "print(\"Hello, World!\")\n",
        "#print() function will leave an empty line\n",
        "print()\n",
        "#\\n is used to signal Python to start a new line\n",
        "print(\"This is the first line. \\nThis is the second line.\")\n",
        "#Three quotation marks can also print multiple lines\n",
        "print('''Three quotes can be used also\n",
        "to print multiple lines using a single print function''')"
      ],
      "metadata": {
        "colab": {
          "base_uri": "https://localhost:8080/"
        },
        "id": "oTDxD5AsYtqm",
        "outputId": "d37ea29f-efe7-413d-b72f-2ac4d9253521"
      },
      "execution_count": 15,
      "outputs": [
        {
          "output_type": "stream",
          "name": "stdout",
          "text": [
            "Hello, World!\n",
            "\n",
            "This is the first line. \n",
            "This is the second line.\n",
            "Three quotes can be used also\n",
            "to print multiple lines using a single print function\n"
          ]
        }
      ]
    },
    {
      "cell_type": "code",
      "source": [],
      "metadata": {
        "id": "XV32gzBRY4-K"
      },
      "execution_count": null,
      "outputs": []
    }
  ]
}