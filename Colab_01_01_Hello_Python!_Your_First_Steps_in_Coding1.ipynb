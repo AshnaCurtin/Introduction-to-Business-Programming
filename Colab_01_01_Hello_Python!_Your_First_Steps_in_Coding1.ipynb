{
  "nbformat": 4,
  "nbformat_minor": 0,
  "metadata": {
    "colab": {
      "provenance": [],
      "authorship_tag": "ABX9TyOZe5iYB2pvvuytLbHCpEev",
      "include_colab_link": true
    },
    "kernelspec": {
      "name": "python3",
      "display_name": "Python 3"
    },
    "language_info": {
      "name": "python"
    }
  },
  "cells": [
    {
      "cell_type": "markdown",
      "metadata": {
        "id": "view-in-github",
        "colab_type": "text"
      },
      "source": [
        "<a href=\"https://colab.research.google.com/github/AshnaCurtin/Introduction-to-Business-Programming/blob/master/Colab_01_01_Hello_Python!_Your_First_Steps_in_Coding1.ipynb\" target=\"_parent\"><img src=\"https://colab.research.google.com/assets/colab-badge.svg\" alt=\"Open In Colab\"/></a>"
      ]
    },
    {
      "cell_type": "markdown",
      "source": [
        "Section 1: Printing \"Hello World!\""
      ],
      "metadata": {
        "id": "K3_SPhxOlrL_"
      }
    },
    {
      "cell_type": "code",
      "execution_count": 1,
      "metadata": {
        "colab": {
          "base_uri": "https://localhost:8080/"
        },
        "id": "nxE7cXsIlkTt",
        "outputId": "c6964414-0c4f-4528-ffc1-216b19443d64"
      },
      "outputs": [
        {
          "output_type": "stream",
          "name": "stdout",
          "text": [
            "Hello World!\n"
          ]
        }
      ],
      "source": [
        "print(\"Hello World!\")\n"
      ]
    },
    {
      "cell_type": "markdown",
      "source": [
        "Section 2: Understanding print() Function"
      ],
      "metadata": {
        "id": "dO4-Vmtfl4mD"
      }
    },
    {
      "cell_type": "code",
      "source": [
        "print(\"Hello my name is Ashna\")"
      ],
      "metadata": {
        "colab": {
          "base_uri": "https://localhost:8080/"
        },
        "id": "vnUlv592lytc",
        "outputId": "43e4e344-fdb9-4495-e9a4-d17bf1b43892"
      },
      "execution_count": 2,
      "outputs": [
        {
          "output_type": "stream",
          "name": "stdout",
          "text": [
            "Hello my name is Ashna\n"
          ]
        }
      ]
    },
    {
      "cell_type": "markdown",
      "source": [
        "Section 3: Printing Multiple Lines"
      ],
      "metadata": {
        "id": "ccIAGzoomDGx"
      }
    },
    {
      "cell_type": "code",
      "source": [
        "print(\"Hello World!\")\n",
        "print(\"I am learning Python.\")"
      ],
      "metadata": {
        "colab": {
          "base_uri": "https://localhost:8080/"
        },
        "id": "beyOyK5rmBK9",
        "outputId": "40af2a49-641b-4f7e-cc13-b24e9cc8085f"
      },
      "execution_count": 3,
      "outputs": [
        {
          "output_type": "stream",
          "name": "stdout",
          "text": [
            "Hello World!\n",
            "I am learning Python.\n"
          ]
        }
      ]
    },
    {
      "cell_type": "code",
      "source": [],
      "metadata": {
        "id": "V5lp6gUUmH56"
      },
      "execution_count": null,
      "outputs": []
    }
  ]
}